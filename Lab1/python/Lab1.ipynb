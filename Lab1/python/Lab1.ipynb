{
 "cells": [
  {
   "cell_type": "markdown",
   "metadata": {},
   "source": [
    "# Digital Signal Processing\n",
    "\n",
    "### MsCV - ViBOT - MAIA"
   ]
  },
  {
   "cell_type": "code",
   "execution_count": 8,
   "metadata": {
    "collapsed": false
   },
   "outputs": [
    {
     "name": "stdout",
     "output_type": "stream",
     "text": [
      "Pretty printing has been turned ON\n"
     ]
    }
   ],
   "source": [
    "%matplotlib inline\n",
    "%pprint off\n",
    "\n",
    "# To make some nice plot\n",
    "import matplotlib.pyplot as plt\n",
    "# To play with arrays\n",
    "import numpy as np"
   ]
  },
  {
   "cell_type": "markdown",
   "metadata": {},
   "source": [
    "## Exercise 1"
   ]
  },
  {
   "cell_type": "markdown",
   "metadata": {},
   "source": [
    "#### 1.1 Dirac function\n",
    "Considering the Dirac function corresponding to the equation below, write a <tt>dirac</tt> function to define a discrete signal of length $N$ and containing the Dirac function at the position $n$, as $\\delta(k-n)$. Verify inside the function that $n \\in [0,N-1]$ and raise an error if it is not the case.\n",
    "\n",
    "$\\delta(k) = \\left\\{\n",
    "    \\begin{array}{lll}\n",
    "        1 & \\mbox{if}  & k=0 \\\\\n",
    "        0 &  &\\mbox{elsewhere}\n",
    "    \\end{array} \\right .$\n",
    "    \n",
    "By default $n$ and $N$ should be equal to 0 and 20, respectively. Plot the signal for $n=10$ using the function <tt>stem</tt> and add labels and title."
   ]
  },
  {
   "cell_type": "code",
   "execution_count": 10,
   "metadata": {
    "collapsed": false
   },
   "outputs": [],
   "source": [
    "def dirac(n=0, N=20):\n",
    "    if n > N - 1:\n",
    "        raise ValueError('n should be in the range from 0 to N-1')\n",
    "            \n",
    "    \n",
    "    s = np.zeros((N, ))\n",
    "    s[n] = 1\n",
    "    \n",
    "    return s"
   ]
  },
  {
   "cell_type": "code",
   "execution_count": 11,
   "metadata": {
    "collapsed": false
   },
   "outputs": [
    {
     "data": {
      "text/plain": [
       "<matplotlib.text.Text at 0x7f3c366d5b50>"
      ]
     },
     "execution_count": 11,
     "metadata": {},
     "output_type": "execute_result"
    },
    {
     "data": {
      "image/png": "[encoded data removed]",
      "text/plain": [
       "<matplotlib.figure.Figure at 0x7f3c38a11bd0>"
      ]
     },
     "metadata": {},
     "output_type": "display_data"
    }
   ],
   "source": [
    "plt.stem(dirac(n=10))\n",
    "plt.xlabel(r'$n$')\n",
    "plt.ylabel(r'$\\delta(k-n)$')\n",
    "plt.title('Dirac function')"
   ]
  },
  {
   "cell_type": "markdown",
   "metadata": {},
   "source": [
    "#### 1.2 Step function\n",
    "Considering the step function $H$ corresponding to the equation below, write a function <tt>step</tt> to define a discrete signal of length $N$ and containing the value of the step function shifted at the position $n$, as $H(k-n)$. Verify inside the function that $n \\in [0,N-1]$ and raise an error if it is not the case.\n",
    "\n",
    "$H(k) = \\left\\{\n",
    "    \\begin{array}{lll}\n",
    "        1 & \\mbox{if}  & k\\geq 0 \\\\\n",
    "        0 & & \\mbox{elsewhere}\n",
    "    \\end{array} \\right .$\n",
    "    \n",
    "By default $n$ and $N$ should be equal to 0 and 20, respectively. Plot the signal for $n=10$ using the function <tt>stem</tt> and add labels and title."
   ]
  },
  {
   "cell_type": "code",
   "execution_count": 43,
   "metadata": {
    "collapsed": false
   },
   "outputs": [],
   "source": [
    "def step(n=0, N=20):\n",
    "    if n > N - 1:\n",
    "        raise ValueError('n should be in the range from 0 to N-1')\n",
    "            \n",
    "    \n",
    "    s = np.zeros((N, ))\n",
    "    for n in range (n, N):\n",
    "        s[n] = 1\n",
    "    \n",
    "    return s"
   ]
  },
  {
   "cell_type": "code",
   "execution_count": 44,
   "metadata": {
    "collapsed": false
   },
   "outputs": [
    {
     "data": {
      "text/plain": [
       "<matplotlib.text.Text at 0x7f3c35692090>"
      ]
     },
     "execution_count": 44,
     "metadata": {},
     "output_type": "execute_result"
    },
    {
     "data": {
      "image/png": "[encoded data removed]",
      "text/plain": [
       "<matplotlib.figure.Figure at 0x7f3c356f00d0>"
      ]
     },
     "metadata": {},
     "output_type": "display_data"
    }
   ],
   "source": [
    "plt.stem(step(n=10))\n",
    "plt.xlabel(r'$n$')\n",
    "plt.ylabel(r'$H(k-n)$')\n",
    "plt.title('Step function')"
   ]
  },
  {
   "cell_type": "markdown",
   "metadata": {},
   "source": [
    "#### 1.3 Ramp function\n",
    "Considering the ramp function $P(k)$ corresponding to the equation below, write a function <tt>ramp</tt> to define a discrete signal of length $N$ and containing the values of the ramp function shifted at the position $n$ with a slope $a$, as $a.P(k-n)$. Verify inside the function that $n \\in [0,N-1]$ or that $a \\neq 0$ and raise an error if it is not the case.\n",
    "\n",
    "$P(k) = \\left\\{\n",
    "    \\begin{array}{lll}\n",
    "        k & \\mbox{if}  & k\\geq 0 \\\\\n",
    "        0 & & \\mbox{elsewhere}\n",
    "    \\end{array} \\right.$\n",
    "    \n",
    "By default $a$, $n$, and $N$ should be equal to $1$, $0$, and $20$, respectively. Plot the signal for $a=2$ and $n=10$ using the function <tt>stem</tt> and add labels and title."
   ]
  },
  {
   "cell_type": "code",
   "execution_count": 79,
   "metadata": {
    "collapsed": false
   },
   "outputs": [],
   "source": [
    "def ramp(a=1, n=0,N=20):\n",
    "    if n > N - 1 or a==0:\n",
    "        raise ValueError('n should be in the range from 0 to N-1, and a should be greater than 0')\n",
    "\n",
    "    s = np.zeros((N, ))\n",
    "    for idx, n in enumerate(np.arange(n, N)):\n",
    "        #print n\n",
    "        #print idx\n",
    "       \n",
    "        s[n] = idx*a\n",
    "            \n",
    "    \n",
    "    \n",
    "    return s\n",
    "    "
   ]
  },
  {
   "cell_type": "code",
   "execution_count": 80,
   "metadata": {
    "collapsed": false
   },
   "outputs": [
    {
     "data": {
      "text/plain": [
       "<matplotlib.text.Text at 0x7f3c34259ad0>"
      ]
     },
     "execution_count": 80,
     "metadata": {},
     "output_type": "execute_result"
    },
    {
     "data": {
      "image/png": "[encoded data removed]",
      "text/plain": [
       "<matplotlib.figure.Figure at 0x7f3c34ac03d0>"
      ]
     },
     "metadata": {},
     "output_type": "display_data"
    }
   ],
   "source": [
    "plt.stem(ramp(a=2, n=10))\n",
    "plt.xlabel(r'$n$')\n",
    "plt.ylabel(r'$P(k-n)$')\n",
    "plt.title('Ramp function')"
   ]
  },
  {
   "cell_type": "markdown",
   "metadata": {},
   "source": [
    "#### 1.4 Geometric function\n",
    "Considering the geometric function $G(k)$ corresponding to the equation below, write a function <tt>geo</tt> to define a discrete signal of length $N$ and containing the values of the geometric function shifted at the position $n$, as $G(k-n)$. Verify inside the function that $n \\in [0,N-1]$ and raise an error if it is not the case.\n",
    "\n",
    "$G(k) = \\left\\{\n",
    "    \\begin{array}{lll}\n",
    "        a^k & \\mbox{if}  & k\\geq 0 \\\\\n",
    "        0 & & \\mbox{elsewhere}\n",
    "    \\end{array} \\right. $\n",
    "    \n",
    "By default $a$, $n$, and $N$ should be equal to $2$, $0$, and $20$, respectively. Plot the signal for $a=2$ and $n=10$ using the function <tt>stem</tt> and add labels and title."
   ]
  },
  {
   "cell_type": "code",
   "execution_count": 83,
   "metadata": {
    "collapsed": true
   },
   "outputs": [],
   "source": [
    "def geo(a=2, n=0, N=20):\n",
    "    if n > N - 1 or a==0:\n",
    "        raise ValueError('n should be in the range from 0 to N-1, and a should be greater than 0')\n",
    "        \n",
    "    s = np.zeros((N, ))\n",
    "    \n",
    "    for idx, n in enumerate(np.arange(n, N)):\n",
    "       \n",
    "        s[n] = a**idx\n",
    "        \n",
    "    return s\n",
    "    \n",
    "        "
   ]
  },
  {
   "cell_type": "code",
   "execution_count": 84,
   "metadata": {
    "collapsed": false
   },
   "outputs": [
    {
     "data": {
      "text/plain": [
       "<matplotlib.text.Text at 0x7f3c340db790>"
      ]
     },
     "execution_count": 84,
     "metadata": {},
     "output_type": "execute_result"
    },
    {
     "data": {
      "image/png": "[encoded data removed]",
      "text/plain": [
       "<matplotlib.figure.Figure at 0x7f3c34306390>"
      ]
     },
     "metadata": {},
     "output_type": "display_data"
    }
   ],
   "source": [
    "plt.stem(geo(a=2, n=10))\n",
    "plt.xlabel(r'$n$')\n",
    "plt.ylabel(r'$G(k-n)$')\n",
    "plt.title('Geometric function')"
   ]
  },
  {
   "cell_type": "markdown",
   "metadata": {},
   "source": [
    "#### 1.5 Box function \n",
    "Considering the box function $B_a(k)$ corresponding to the equation below, write a function <tt>box</tt> to define a discrete signal of length $N$ and containing the values of the <tt>box</tt> function shifted at the position $n$ with a half-width $a$, as $B_a(k-n)$. Verify inside the function that $n \\in [a,N-a]$ and $a > 0$. If not, raise an error if it is not the case.\n",
    "\n",
    "$B_a(k) = \\left\\{\n",
    "    \\begin{array}{lll}\n",
    "        1 & \\mbox{if}  & -a \\leq k \\leq a \\\\\n",
    "        0 & & \\mbox{elsewhere}\n",
    "    \\end{array} \\right.  $\n",
    "    \n",
    "By default $a$, $n$, and $N$ should be equal to $1$, $10$, and $20$, respectively. Plot the signal for $a=3$ and $n=10$ using the function <tt>stem</tt> and add labels and title."
   ]
  },
  {
   "cell_type": "code",
   "execution_count": 89,
   "metadata": {
    "collapsed": true
   },
   "outputs": [],
   "source": [
    "def box(a=1, n=10, N=20):\n",
    "    if n > N - a or n < a or a<=0:\n",
    "        raise ValueError('n should be in the range from a to N-a, and a should be greater than 0')\n",
    "        \n",
    "    s = np.zeros((N, ))\n",
    "        \n",
    "    for n in range(n - a, n + a +1):\n",
    "        s[n] = 1\n",
    "    \n",
    "    return s"
   ]
  },
  {
   "cell_type": "code",
   "execution_count": 90,
   "metadata": {
    "collapsed": false
   },
   "outputs": [
    {
     "data": {
      "text/plain": [
       "<matplotlib.text.Text at 0x7f3c33f2fd90>"
      ]
     },
     "execution_count": 90,
     "metadata": {},
     "output_type": "execute_result"
    },
    {
     "data": {
      "image/png": "[encoded data removed]",
      "text/plain": [
       "<matplotlib.figure.Figure at 0x7f3c342a5ad0>"
      ]
     },
     "metadata": {},
     "output_type": "display_data"
    }
   ],
   "source": [
    "plt.stem(box(a=3, n=10))\n",
    "plt.xlabel(r'$n$')\n",
    "plt.ylabel(r'$B(k-n)$')\n",
    "plt.title('Box function')"
   ]
  },
  {
   "cell_type": "markdown",
   "metadata": {},
   "source": [
    "#### 1.6 Discrete sine function\n",
    "Write a function <tt>sin_fn</tt> to define a discrete signal of length $N$ and containing the values of $\\sin(2\\pi f n T_s)$. The parameters are the frequency of the wave, the number of period, and the sampling frequency.\n",
    "\n",
    "Plot a single period signal with a frequency of 10 Hertz and a sampling frequency of 100 Hertz using the function <tt>stem</tt> and add labels and title."
   ]
  },
  {
   "cell_type": "code",
   "execution_count": 106,
   "metadata": {
    "collapsed": true
   },
   "outputs": [],
   "source": [
    "def sin_fn(freq, period, samp_freq):\n",
    "    \n",
    "    x = np.arange(0, 1./freq * period, 1./samp_freq)\n",
    "    \n",
    "    return np.sin(2.*np.pi*freq*x)\n",
    "    \n",
    "    "
   ]
  },
  {
   "cell_type": "code",
   "execution_count": 109,
   "metadata": {
    "collapsed": false
   },
   "outputs": [
    {
     "data": {
      "text/plain": [
       "<matplotlib.text.Text at 0x7f3c3385f7d0>"
      ]
     },
     "execution_count": 109,
     "metadata": {},
     "output_type": "execute_result"
    },
    {
     "data": {
      "image/png": "[encoded data removed]",
      "text/plain": [
       "<matplotlib.figure.Figure at 0x7f3c338a33d0>"
      ]
     },
     "metadata": {},
     "output_type": "display_data"
    }
   ],
   "source": [
    "plt.stem(sin_fn(freq=10, period=1, samp_freq=100))\n",
    "plt.xlabel(r'$n$')\n",
    "plt.ylabel(r'$\\sin(2\\pi fnT_s)$')\n",
    "plt.title('Discrete sine function')"
   ]
  },
  {
   "cell_type": "markdown",
   "metadata": {},
   "source": [
    "Repeat the plotting for a signal with a frequency of 10 Hertz and a sampling frequency of 1000 Hertz and 2 periods. "
   ]
  },
  {
   "cell_type": "code",
   "execution_count": 110,
   "metadata": {
    "collapsed": false
   },
   "outputs": [
    {
     "data": {
      "text/plain": [
       "<matplotlib.text.Text at 0x7f3c337b4fd0>"
      ]
     },
     "execution_count": 110,
     "metadata": {},
     "output_type": "execute_result"
    },
    {
     "data": {
      "image/png": "[encoded data removed]",
      "text/plain": [
       "<matplotlib.figure.Figure at 0x7f3c3443ed90>"
      ]
     },
     "metadata": {},
     "output_type": "display_data"
    }
   ],
   "source": [
    "plt.stem(sin_fn(freq=10, period=2, samp_freq=1000))\n",
    "plt.xlabel(r'$n$')\n",
    "plt.ylabel(r'$\\sin(2\\pi fnT_s)$')\n",
    "plt.title('Discrete sine function')"
   ]
  },
  {
   "cell_type": "markdown",
   "metadata": {},
   "source": [
    "Repeat the plotting for a signal with a frequency of 10 Hertz and a sampling frequency of 30 Hertz (per period) and 2 periods. "
   ]
  },
  {
   "cell_type": "code",
   "execution_count": 111,
   "metadata": {
    "collapsed": false,
    "scrolled": true
   },
   "outputs": [
    {
     "data": {
      "text/plain": [
       "<matplotlib.text.Text at 0x7f3c332e46d0>"
      ]
     },
     "execution_count": 111,
     "metadata": {},
     "output_type": "execute_result"
    },
    {
     "data": {
      "image/png": "[encoded data removed]",
      "text/plain": [
       "<matplotlib.figure.Figure at 0x7f3c33d2da10>"
      ]
     },
     "metadata": {},
     "output_type": "display_data"
    }
   ],
   "source": [
    "plt.stem(sin_fn(freq=10, period=2, samp_freq=30))\n",
    "plt.xlabel(r'$n$')\n",
    "plt.ylabel(r'$\\sin(2\\pi fnT_s)$')\n",
    "plt.title('Discrete sine function')"
   ]
  },
  {
   "cell_type": "markdown",
   "metadata": {},
   "source": [
    "What are the requirements while sampling such signal? Comments from your previous observations"
   ]
  },
  {
   "cell_type": "markdown",
   "metadata": {},
   "source": [
    "The sampling frequency is too low, it should be ate least 40 for 2 periods."
   ]
  },
  {
   "cell_type": "markdown",
   "metadata": {},
   "source": [
    "## Exercise 2"
   ]
  },
  {
   "cell_type": "markdown",
   "metadata": {},
   "source": [
    "#### 2.1 Gaussian Noise\n",
    "Generate an observation $x_n$ with 1000 of the normal/gaussian random process ${\\cal N}$.\n",
    "\n",
    "Plot the histogram of these data as well as the theoretical distribution."
   ]
  },
  {
   "cell_type": "code",
   "execution_count": 115,
   "metadata": {
    "collapsed": false
   },
   "outputs": [
    {
     "data": {
      "image/png": "[encoded data removed]",
      "text/plain": [
       "<matplotlib.figure.Figure at 0x7f3c332e49d0>"
      ]
     },
     "metadata": {},
     "output_type": "display_data"
    }
   ],
   "source": [
    "# Define the mean and standard deviation\n",
    "N = 1000\n",
    "mu = 0\n",
    "sigma = 1\n",
    "x = np.random.normal(mu, sigma, (N, ))\n",
    "\n",
    "\n",
    "# Plot the histogram\n",
    "n, bins, patches = plt.hist(x, 50, normed=1, alpha=0.25)\n",
    "\n",
    "# Plot the distribution\n",
    "from scipy.stats import norm\n",
    "distri = norm.pdf(bins, mu, sigma)\n"
   ]
  },
  {
   "cell_type": "markdown",
   "metadata": {},
   "source": [
    "\n",
    "Increase the number of samples to 10000 and repeat the experiment. Discuss."
   ]
  },
  {
   "cell_type": "code",
   "execution_count": 119,
   "metadata": {
    "collapsed": false,
    "scrolled": true
   },
   "outputs": [
    {
     "data": {
      "image/png": "[encoded data removed]",
      "text/plain": [
       "<matplotlib.figure.Figure at 0x7f3c2c5c7e50>"
      ]
     },
     "metadata": {},
     "output_type": "display_data"
    },
    {
     "ename": "ValueError",
     "evalue": "The truth value of an array with more than one element is ambiguous. Use a.any() or a.all()",
     "output_type": "error",
     "traceback": [
      "\u001b[0;31m---------------------------------------------------------------------------\u001b[0m",
      "\u001b[0;31mValueError\u001b[0m                                Traceback (most recent call last)",
      "\u001b[0;32m<ipython-input-119-e4674d8b1e72>\u001b[0m in \u001b[0;36m<module>\u001b[0;34m()\u001b[0m\n\u001b[1;32m     12\u001b[0m \u001b[0;32mfrom\u001b[0m \u001b[0mscipy\u001b[0m\u001b[0;34m.\u001b[0m\u001b[0mstats\u001b[0m \u001b[0;32mimport\u001b[0m \u001b[0mnorm\u001b[0m\u001b[0;34m\u001b[0m\u001b[0m\n\u001b[1;32m     13\u001b[0m \u001b[0mdistri\u001b[0m \u001b[0;34m=\u001b[0m \u001b[0mnorm\u001b[0m\u001b[0;34m.\u001b[0m\u001b[0mpdf\u001b[0m\u001b[0;34m(\u001b[0m\u001b[0mbins\u001b[0m\u001b[0;34m,\u001b[0m \u001b[0mmu\u001b[0m\u001b[0;34m,\u001b[0m \u001b[0msigma\u001b[0m\u001b[0;34m)\u001b[0m\u001b[0;34m\u001b[0m\u001b[0m\n\u001b[0;32m---> 14\u001b[0;31m \u001b[0mplt\u001b[0m\u001b[0;34m.\u001b[0m\u001b[0mshow\u001b[0m\u001b[0;34m(\u001b[0m\u001b[0mdistri\u001b[0m\u001b[0;34m)\u001b[0m\u001b[0;34m\u001b[0m\u001b[0m\n\u001b[0m\u001b[1;32m     15\u001b[0m \u001b[0;34m\u001b[0m\u001b[0m\n",
      "\u001b[0;32m/home/masters/anaconda2/lib/python2.7/site-packages/matplotlib/pyplot.pyc\u001b[0m in \u001b[0;36mshow\u001b[0;34m(*args, **kw)\u001b[0m\n\u001b[1;32m    153\u001b[0m     \"\"\"\n\u001b[1;32m    154\u001b[0m     \u001b[0;32mglobal\u001b[0m \u001b[0m_show\u001b[0m\u001b[0;34m\u001b[0m\u001b[0m\n\u001b[0;32m--> 155\u001b[0;31m     \u001b[0;32mreturn\u001b[0m \u001b[0m_show\u001b[0m\u001b[0;34m(\u001b[0m\u001b[0;34m*\u001b[0m\u001b[0margs\u001b[0m\u001b[0;34m,\u001b[0m \u001b[0;34m**\u001b[0m\u001b[0mkw\u001b[0m\u001b[0;34m)\u001b[0m\u001b[0;34m\u001b[0m\u001b[0m\n\u001b[0m\u001b[1;32m    156\u001b[0m \u001b[0;34m\u001b[0m\u001b[0m\n\u001b[1;32m    157\u001b[0m \u001b[0;34m\u001b[0m\u001b[0m\n",
      "\u001b[0;32m/home/masters/anaconda2/lib/python2.7/site-packages/ipykernel/pylab/backend_inline.pyc\u001b[0m in \u001b[0;36mshow\u001b[0;34m(close, block)\u001b[0m\n\u001b[1;32m     39\u001b[0m         \u001b[0;31m# only call close('all') if any to close\u001b[0m\u001b[0;34m\u001b[0m\u001b[0;34m\u001b[0m\u001b[0m\n\u001b[1;32m     40\u001b[0m         \u001b[0;31m# close triggers gc.collect, which can be slow\u001b[0m\u001b[0;34m\u001b[0m\u001b[0;34m\u001b[0m\u001b[0m\n\u001b[0;32m---> 41\u001b[0;31m         \u001b[0;32mif\u001b[0m \u001b[0mclose\u001b[0m \u001b[0;32mand\u001b[0m \u001b[0mGcf\u001b[0m\u001b[0;34m.\u001b[0m\u001b[0mget_all_fig_managers\u001b[0m\u001b[0;34m(\u001b[0m\u001b[0;34m)\u001b[0m\u001b[0;34m:\u001b[0m\u001b[0;34m\u001b[0m\u001b[0m\n\u001b[0m\u001b[1;32m     42\u001b[0m             \u001b[0mmatplotlib\u001b[0m\u001b[0;34m.\u001b[0m\u001b[0mpyplot\u001b[0m\u001b[0;34m.\u001b[0m\u001b[0mclose\u001b[0m\u001b[0;34m(\u001b[0m\u001b[0;34m'all'\u001b[0m\u001b[0;34m)\u001b[0m\u001b[0;34m\u001b[0m\u001b[0m\n\u001b[1;32m     43\u001b[0m \u001b[0;34m\u001b[0m\u001b[0m\n",
      "\u001b[0;31mValueError\u001b[0m: The truth value of an array with more than one element is ambiguous. Use a.any() or a.all()"
     ]
    },
    {
     "data": {
      "image/png": "[encoded data removed]",
      "text/plain": [
       "<matplotlib.figure.Figure at 0x7f3c2c5c7e50>"
      ]
     },
     "metadata": {},
     "output_type": "display_data"
    }
   ],
   "source": [
    "# Define the mean and standard deviation\n",
    "N = 10000\n",
    "mu = 0\n",
    "sigma = 1\n",
    "x = np.random.normal(mu, sigma, (N, ))\n",
    "\n",
    "\n",
    "# Plot the histogram\n",
    "n, bins, patches = plt.hist(x, 50, normed=1, alpha=0.25)\n",
    "\n",
    "# Plot the distribution\n",
    "from scipy.stats import norm\n",
    "distri = norm.pdf(bins, mu, sigma)\n",
    "plt.show(distri)\n",
    "\n"
   ]
  },
  {
   "cell_type": "markdown",
   "metadata": {},
   "source": [
    "With increasing the sample number, the distribution is "
   ]
  },
  {
   "cell_type": "markdown",
   "metadata": {},
   "source": [
    "#### 2.2 Uniform distribution\n",
    "Same question with the uniform law of the random process ${\\cal U}$ and an observation $x_u$."
   ]
  },
  {
   "cell_type": "code",
   "execution_count": 7,
   "metadata": {
    "collapsed": false
   },
   "outputs": [],
   "source": [
    "# Define the number of samples to draw\n",
    "N = 1000\n",
    "\n",
    "# Generate the data\n",
    "np.random.uniform(N)\n",
    "\n",
    "# Plot the histogram\n"
   ]
  },
  {
   "cell_type": "markdown",
   "metadata": {},
   "source": [
    "#### 2.3 Autocorrelation\n",
    "Compute the autocorrelation of the two observations and plot them. Are these noises \"white\"? Conclusion?"
   ]
  },
  {
   "cell_type": "code",
   "execution_count": 8,
   "metadata": {
    "collapsed": false
   },
   "outputs": [],
   "source": [
    "# Compute the autocorrelation of Gaussian observations\n",
    "## np.correlate(...)"
   ]
  },
  {
   "cell_type": "markdown",
   "metadata": {},
   "source": [
    "Generate three binary random signals $s_1, s_2, s_3$ thanks to the instruction <tt>np.round(np.random.uniform(0, 1, 50))</tt>. Generate a whole signal $s$ containing these signals at different shifts. Compute the cross-correlation between the whole signals and $s_1, s_2, s_3$. Comment the results."
   ]
  },
  {
   "cell_type": "code",
   "execution_count": null,
   "metadata": {
    "collapsed": false
   },
   "outputs": [],
   "source": []
  },
  {
   "cell_type": "code",
   "execution_count": null,
   "metadata": {
    "collapsed": true
   },
   "outputs": [],
   "source": []
  }
 ],
 "metadata": {
  "anaconda-cloud": {},
  "kernelspec": {
   "display_name": "Python 2",
   "language": "python",
   "name": "python2"
  },
  "language_info": {
   "codemirror_mode": {
    "name": "ipython",
    "version": 2
   },
   "file_extension": ".py",
   "mimetype": "text/x-python",
   "name": "python",
   "nbconvert_exporter": "python",
   "pygments_lexer": "ipython2",
   "version": "2.7.12"
  }
 },
 "nbformat": 4,
 "nbformat_minor": 1
}
